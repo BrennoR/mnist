{
 "cells": [
  {
   "cell_type": "markdown",
   "metadata": {
    "collapsed": true
   },
   "source": [
    "## Imports"
   ]
  },
  {
   "cell_type": "code",
   "execution_count": 271,
   "metadata": {},
   "outputs": [],
   "source": [
    "import numpy as np\n",
    "import pandas as pd\n",
    "import matplotlib.pyplot as plt\n",
    "%matplotlib inline\n",
    "import seaborn as sns\n",
    "sns.set()"
   ]
  },
  {
   "cell_type": "markdown",
   "metadata": {},
   "source": [
    "## MNIST Dataset"
   ]
  },
  {
   "cell_type": "code",
   "execution_count": 272,
   "metadata": {},
   "outputs": [],
   "source": [
    "from sklearn.datasets import fetch_openml\n",
    "mnist= fetch_openml('mnist_784', version=1)"
   ]
  },
  {
   "cell_type": "code",
   "execution_count": 273,
   "metadata": {},
   "outputs": [],
   "source": [
    "X, y = mnist['data'], mnist['target']"
   ]
  },
  {
   "cell_type": "code",
   "execution_count": 274,
   "metadata": {},
   "outputs": [],
   "source": [
    "from sklearn.model_selection import train_test_split"
   ]
  },
  {
   "cell_type": "code",
   "execution_count": 275,
   "metadata": {},
   "outputs": [],
   "source": [
    "X_train, X_test, y_train, y_test = train_test_split(X, y, test_size=0.15)"
   ]
  },
  {
   "cell_type": "markdown",
   "metadata": {},
   "source": [
    "## Data Processing and Augmentation"
   ]
  },
  {
   "cell_type": "code",
   "execution_count": 276,
   "metadata": {},
   "outputs": [],
   "source": [
    "from scipy.ndimage.interpolation import shift\n",
    "\n",
    "def shift_image(image, dx, dy):\n",
    "    image = image.reshape(28, 28)\n",
    "    shifted_image = shift(image, [dy, dx], cval=0, mode=\"constant\")\n",
    "    return shifted_image.reshape([-1])"
   ]
  },
  {
   "cell_type": "code",
   "execution_count": 277,
   "metadata": {},
   "outputs": [],
   "source": [
    "X_train_augmented = [image for image in X_train]\n",
    "y_train_augmented = [image for image in y_train]\n",
    "\n",
    "for dx, dy in ((1, 0), (-1, 0), (0, 1), (0, -1)):\n",
    "    for image, label in zip(X, y):\n",
    "        X_train_augmented.append(shift_image(image, dx, dy))\n",
    "        y_train_augmented.append(label)\n",
    "        \n",
    "X_train_augmented = np.array(X_train_augmented)\n",
    "y_train_augmented = np.array(y_train_augmented)"
   ]
  },
  {
   "cell_type": "code",
   "execution_count": 278,
   "metadata": {},
   "outputs": [
    {
     "name": "stderr",
     "output_type": "stream",
     "text": [
      "C:\\Users\\Brenno Ribeiro\\AppData\\Local\\Programs\\Python\\Python36\\lib\\site-packages\\sklearn\\preprocessing\\_encoders.py:368: FutureWarning: The handling of integer data will change in version 0.22. Currently, the categories are determined based on the range [0, max(values)], while in the future they will be determined based on the unique values.\n",
      "If you want the future behaviour and silence this warning, you can specify \"categories='auto'\".\n",
      "In case you used a LabelEncoder before this OneHotEncoder to convert the categories to integers, then you can now use the OneHotEncoder directly.\n",
      "  warnings.warn(msg, FutureWarning)\n",
      "C:\\Users\\Brenno Ribeiro\\AppData\\Local\\Programs\\Python\\Python36\\lib\\site-packages\\sklearn\\preprocessing\\_encoders.py:368: FutureWarning: The handling of integer data will change in version 0.22. Currently, the categories are determined based on the range [0, max(values)], while in the future they will be determined based on the unique values.\n",
      "If you want the future behaviour and silence this warning, you can specify \"categories='auto'\".\n",
      "In case you used a LabelEncoder before this OneHotEncoder to convert the categories to integers, then you can now use the OneHotEncoder directly.\n",
      "  warnings.warn(msg, FutureWarning)\n"
     ]
    }
   ],
   "source": [
    "from sklearn.preprocessing import OneHotEncoder\n",
    "oneHot = OneHotEncoder()\n",
    "y_train_augmented = oneHot.fit_transform(np.reshape(y_train_augmented, (-1, 1)))\n",
    "y_test = oneHot.fit_transform(np.reshape(y_test, (-1, 1)))"
   ]
  },
  {
   "cell_type": "code",
   "execution_count": 279,
   "metadata": {},
   "outputs": [],
   "source": [
    "shuffle_idx = np.random.permutation(len(X_train_augmented))\n",
    "X_train = X_train_augmented[shuffle_idx]\n",
    "y_train = y_train_augmented[shuffle_idx]"
   ]
  },
  {
   "cell_type": "code",
   "execution_count": 280,
   "metadata": {},
   "outputs": [],
   "source": [
    "X_train, X_test = np.reshape(X_train, (X_train.shape[0], 28, 28, 1)), np.reshape(X_test, (X_test.shape[0], 28, 28, 1))"
   ]
  },
  {
   "cell_type": "code",
   "execution_count": 281,
   "metadata": {},
   "outputs": [],
   "source": [
    "X_train, X_test = X_train / 255, X_test / 255"
   ]
  },
  {
   "cell_type": "markdown",
   "metadata": {},
   "source": [
    "## Convolutional Neural Network"
   ]
  },
  {
   "cell_type": "code",
   "execution_count": 282,
   "metadata": {},
   "outputs": [],
   "source": [
    "import tensorflow as tf\n",
    "from tensorflow._api.v1.keras.models import Sequential\n",
    "from tensorflow._api.v1.keras.layers import Dense, Activation, Dropout, Flatten, Conv2D, MaxPooling2D\n",
    "from tensorflow._api.v1.keras.layers import BatchNormalization"
   ]
  },
  {
   "cell_type": "code",
   "execution_count": 283,
   "metadata": {},
   "outputs": [],
   "source": [
    "model = Sequential()"
   ]
  },
  {
   "cell_type": "code",
   "execution_count": 284,
   "metadata": {},
   "outputs": [
    {
     "name": "stdout",
     "output_type": "stream",
     "text": [
      "_________________________________________________________________\n",
      "Layer (type)                 Output Shape              Param #   \n",
      "=================================================================\n",
      "conv2d_98 (Conv2D)           (None, 28, 28, 48)        240       \n",
      "_________________________________________________________________\n",
      "max_pooling2d_12 (MaxPooling (None, 14, 14, 48)        0         \n",
      "_________________________________________________________________\n",
      "conv2d_99 (Conv2D)           (None, 14, 14, 96)        41568     \n",
      "_________________________________________________________________\n",
      "batch_normalization_7 (Batch (None, 14, 14, 96)        384       \n",
      "_________________________________________________________________\n",
      "activation_7 (Activation)    (None, 14, 14, 96)        0         \n",
      "_________________________________________________________________\n",
      "max_pooling2d_13 (MaxPooling (None, 7, 7, 96)          0         \n",
      "_________________________________________________________________\n",
      "flatten_33 (Flatten)         (None, 4704)              0         \n",
      "_________________________________________________________________\n",
      "dense_67 (Dense)             (None, 1024)              4817920   \n",
      "_________________________________________________________________\n",
      "dropout_32 (Dropout)         (None, 1024)              0         \n",
      "_________________________________________________________________\n",
      "dense_68 (Dense)             (None, 1024)              1049600   \n",
      "_________________________________________________________________\n",
      "dropout_33 (Dropout)         (None, 1024)              0         \n",
      "_________________________________________________________________\n",
      "dense_69 (Dense)             (None, 10)                10250     \n",
      "=================================================================\n",
      "Total params: 5,919,962\n",
      "Trainable params: 5,919,770\n",
      "Non-trainable params: 192\n",
      "_________________________________________________________________\n"
     ]
    }
   ],
   "source": [
    "model.add(Conv2D(filters=48, input_shape=(28, 28, 1), kernel_size=(2, 2), strides=(1, 1), padding='SAME', activation='relu'))\n",
    "model.add(MaxPooling2D(pool_size=2, padding='VALID'))\n",
    "model.add(Conv2D(filters=96, kernel_size=(3, 3), strides=(1, 1), padding='SAME'))\n",
    "model.add(BatchNormalization())\n",
    "model.add(Activation('relu'))\n",
    "model.add(MaxPooling2D(pool_size=2, padding='VALID'))\n",
    "model.add(Flatten())\n",
    "\n",
    "model.add(Dense(1024, input_shape=(28*28,), activation='relu'))\n",
    "model.add(Dropout(0.4))\n",
    "model.add(Dense(1024, activation='relu'))\n",
    "model.add(Dropout(0.4))\n",
    "model.add(Dense(10, activation='softmax'))\n",
    "\n",
    "model.compile(loss='categorical_crossentropy', optimizer='adam', metrics=['accuracy'])\n",
    "\n",
    "model.summary()"
   ]
  },
  {
   "cell_type": "code",
   "execution_count": 285,
   "metadata": {},
   "outputs": [
    {
     "name": "stdout",
     "output_type": "stream",
     "text": [
      "Train on 339500 samples, validate on 10500 samples\n",
      "Epoch 1/10\n",
      "339500/339500 [==============================] - 85s 251us/step - loss: 0.0885 - acc: 0.9747 - val_loss: 0.0579 - val_acc: 0.9845\n",
      "Epoch 2/10\n",
      "339500/339500 [==============================] - 83s 246us/step - loss: 0.0448 - acc: 0.9880 - val_loss: 0.0317 - val_acc: 0.9921\n",
      "Epoch 3/10\n",
      "339500/339500 [==============================] - 83s 246us/step - loss: 0.0370 - acc: 0.9905 - val_loss: 0.0254 - val_acc: 0.9942\n",
      "Epoch 4/10\n",
      "339500/339500 [==============================] - 83s 245us/step - loss: 0.0318 - acc: 0.9920 - val_loss: 0.0158 - val_acc: 0.9965\n",
      "Epoch 5/10\n",
      "339500/339500 [==============================] - 83s 245us/step - loss: 0.0289 - acc: 0.9929 - val_loss: 0.0181 - val_acc: 0.9949\n",
      "Epoch 6/10\n",
      "339500/339500 [==============================] - 83s 246us/step - loss: 0.0266 - acc: 0.9937 - val_loss: 0.0171 - val_acc: 0.9966\n",
      "Epoch 7/10\n",
      "339500/339500 [==============================] - 84s 246us/step - loss: 0.0245 - acc: 0.9943 - val_loss: 0.0168 - val_acc: 0.9958\n",
      "Epoch 8/10\n",
      "339500/339500 [==============================] - 83s 246us/step - loss: 0.0240 - acc: 0.9944 - val_loss: 0.0130 - val_acc: 0.9965\n",
      "Epoch 9/10\n",
      "339500/339500 [==============================] - 83s 245us/step - loss: 0.0236 - acc: 0.9946 - val_loss: 0.0103 - val_acc: 0.9973\n",
      "Epoch 10/10\n",
      "339500/339500 [==============================] - 83s 246us/step - loss: 0.0226 - acc: 0.9951 - val_loss: 0.0118 - val_acc: 0.9972\n"
     ]
    }
   ],
   "source": [
    "history = model.fit(X_train, y_train, batch_size=32, validation_data=(X_test, y_test), epochs=10)"
   ]
  },
  {
   "cell_type": "code",
   "execution_count": 287,
   "metadata": {},
   "outputs": [
    {
     "data": {
      "image/png": "[encoded data removed]",
      "text/plain": [
       "<Figure size 432x288 with 1 Axes>"
      ]
     },
     "metadata": {},
     "output_type": "display_data"
    }
   ],
   "source": [
    "plt.plot(history.history['acc'])\n",
    "plt.plot(history.history['val_acc'])\n",
    "plt.title('Model Accuracy')\n",
    "plt.xlabel('Epoch')\n",
    "plt.ylabel('Accuracy')\n",
    "plt.legend(['train', 'test'])\n",
    "plt.show()"
   ]
  },
  {
   "cell_type": "code",
   "execution_count": 291,
   "metadata": {},
   "outputs": [
    {
     "data": {
      "text/plain": [
       "[0.9844761904761905,\n",
       " 0.9920952380952381,\n",
       " 0.9941904761904762,\n",
       " 0.9964761904761905,\n",
       " 0.9948571428571429,\n",
       " 0.9965714285714286,\n",
       " 0.9958095238095238,\n",
       " 0.9964761904761905,\n",
       " 0.9973333333333333,\n",
       " 0.9972380952380953]"
      ]
     },
     "execution_count": 291,
     "metadata": {},
     "output_type": "execute_result"
    }
   ],
   "source": [
    "history.history['val_acc']"
   ]
  },
  {
   "cell_type": "code",
   "execution_count": null,
   "metadata": {},
   "outputs": [],
   "source": []
  }
 ],
 "metadata": {
  "kernelspec": {
   "display_name": "Python 3",
   "language": "python",
   "name": "python3"
  },
  "language_info": {
   "codemirror_mode": {
    "name": "ipython",
    "version": 3
   },
   "file_extension": ".py",
   "mimetype": "text/x-python",
   "name": "python",
   "nbconvert_exporter": "python",
   "pygments_lexer": "ipython3",
   "version": "3.6.7"
  }
 },
 "nbformat": 4,
 "nbformat_minor": 1
}
