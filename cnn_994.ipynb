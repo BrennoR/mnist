{
 "cells": [
  {
   "cell_type": "markdown",
   "metadata": {
    "collapsed": true
   },
   "source": [
    "## Imports"
   ]
  },
  {
   "cell_type": "code",
   "execution_count": 1,
   "metadata": {},
   "outputs": [],
   "source": [
    "import numpy as np\n",
    "import pandas as pd\n",
    "import matplotlib.pyplot as plt\n",
    "%matplotlib inline\n",
    "import seaborn as sns\n",
    "sns.set()"
   ]
  },
  {
   "cell_type": "markdown",
   "metadata": {},
   "source": [
    "## MNIST Dataset"
   ]
  },
  {
   "cell_type": "code",
   "execution_count": 2,
   "metadata": {},
   "outputs": [],
   "source": [
    "from sklearn.datasets import fetch_openml\n",
    "mnist= fetch_openml('mnist_784', version=1)"
   ]
  },
  {
   "cell_type": "code",
   "execution_count": 3,
   "metadata": {},
   "outputs": [],
   "source": [
    "X, y = mnist['data'], mnist['target']"
   ]
  },
  {
   "cell_type": "code",
   "execution_count": 4,
   "metadata": {},
   "outputs": [],
   "source": [
    "from sklearn.model_selection import train_test_split"
   ]
  },
  {
   "cell_type": "code",
   "execution_count": 5,
   "metadata": {},
   "outputs": [],
   "source": [
    "X_train, X_test, y_train, y_test = train_test_split(X, y, test_size=0.15)"
   ]
  },
  {
   "cell_type": "markdown",
   "metadata": {},
   "source": [
    "## Data Processing and Augmentation"
   ]
  },
  {
   "cell_type": "code",
   "execution_count": 6,
   "metadata": {},
   "outputs": [],
   "source": [
    "from scipy.ndimage.interpolation import shift\n",
    "\n",
    "def shift_image(image, dx, dy):\n",
    "    image = image.reshape(28, 28)\n",
    "    shifted_image = shift(image, [dy, dx], cval=0, mode=\"constant\")\n",
    "    return shifted_image.reshape([-1])"
   ]
  },
  {
   "cell_type": "code",
   "execution_count": 7,
   "metadata": {},
   "outputs": [],
   "source": [
    "X_train_augmented = [image for image in X_train]\n",
    "y_train_augmented = [image for image in y_train]\n",
    "\n",
    "for dx, dy in ((1, 0), (-1, 0), (0, 1), (0, -1)):\n",
    "    for image, label in zip(X_train, y_train):\n",
    "        X_train_augmented.append(shift_image(image, dx, dy))\n",
    "        y_train_augmented.append(label)\n",
    "        \n",
    "X_train_augmented = np.array(X_train_augmented)\n",
    "y_train_augmented = np.array(y_train_augmented)"
   ]
  },
  {
   "cell_type": "code",
   "execution_count": 8,
   "metadata": {},
   "outputs": [
    {
     "name": "stderr",
     "output_type": "stream",
     "text": [
      "C:\\Users\\Brenno Ribeiro\\AppData\\Local\\Programs\\Python\\Python36\\lib\\site-packages\\sklearn\\preprocessing\\_encoders.py:368: FutureWarning: The handling of integer data will change in version 0.22. Currently, the categories are determined based on the range [0, max(values)], while in the future they will be determined based on the unique values.\n",
      "If you want the future behaviour and silence this warning, you can specify \"categories='auto'\".\n",
      "In case you used a LabelEncoder before this OneHotEncoder to convert the categories to integers, then you can now use the OneHotEncoder directly.\n",
      "  warnings.warn(msg, FutureWarning)\n",
      "C:\\Users\\Brenno Ribeiro\\AppData\\Local\\Programs\\Python\\Python36\\lib\\site-packages\\sklearn\\preprocessing\\_encoders.py:368: FutureWarning: The handling of integer data will change in version 0.22. Currently, the categories are determined based on the range [0, max(values)], while in the future they will be determined based on the unique values.\n",
      "If you want the future behaviour and silence this warning, you can specify \"categories='auto'\".\n",
      "In case you used a LabelEncoder before this OneHotEncoder to convert the categories to integers, then you can now use the OneHotEncoder directly.\n",
      "  warnings.warn(msg, FutureWarning)\n"
     ]
    }
   ],
   "source": [
    "from sklearn.preprocessing import OneHotEncoder\n",
    "oneHot = OneHotEncoder()\n",
    "y_train_augmented = oneHot.fit_transform(np.reshape(y_train_augmented, (-1, 1)))\n",
    "y_test = oneHot.fit_transform(np.reshape(y_test, (-1, 1)))"
   ]
  },
  {
   "cell_type": "code",
   "execution_count": 9,
   "metadata": {},
   "outputs": [],
   "source": [
    "shuffle_idx = np.random.permutation(len(X_train_augmented))\n",
    "X_train = X_train_augmented[shuffle_idx]\n",
    "y_train = y_train_augmented[shuffle_idx]"
   ]
  },
  {
   "cell_type": "code",
   "execution_count": 10,
   "metadata": {},
   "outputs": [],
   "source": [
    "X_train, X_test = np.reshape(X_train, (X_train.shape[0], 28, 28, 1)), np.reshape(X_test, (X_test.shape[0], 28, 28, 1))"
   ]
  },
  {
   "cell_type": "code",
   "execution_count": 11,
   "metadata": {},
   "outputs": [],
   "source": [
    "X_train, X_test = X_train / 255, X_test / 255"
   ]
  },
  {
   "cell_type": "markdown",
   "metadata": {},
   "source": [
    "## Convolutional Neural Network"
   ]
  },
  {
   "cell_type": "code",
   "execution_count": 12,
   "metadata": {},
   "outputs": [],
   "source": [
    "import tensorflow as tf\n",
    "from tensorflow._api.v1.keras.models import Sequential\n",
    "from tensorflow._api.v1.keras.layers import Dense, Activation, Dropout, Flatten, Conv2D, MaxPooling2D\n",
    "from tensorflow._api.v1.keras.layers import BatchNormalization"
   ]
  },
  {
   "cell_type": "code",
   "execution_count": 13,
   "metadata": {},
   "outputs": [],
   "source": [
    "model = Sequential()"
   ]
  },
  {
   "cell_type": "code",
   "execution_count": 14,
   "metadata": {},
   "outputs": [
    {
     "name": "stdout",
     "output_type": "stream",
     "text": [
      "_________________________________________________________________\n",
      "Layer (type)                 Output Shape              Param #   \n",
      "=================================================================\n",
      "conv2d (Conv2D)              (None, 28, 28, 48)        240       \n",
      "_________________________________________________________________\n",
      "max_pooling2d (MaxPooling2D) (None, 14, 14, 48)        0         \n",
      "_________________________________________________________________\n",
      "conv2d_1 (Conv2D)            (None, 14, 14, 96)        41568     \n",
      "_________________________________________________________________\n",
      "batch_normalization (BatchNo (None, 14, 14, 96)        384       \n",
      "_________________________________________________________________\n",
      "activation (Activation)      (None, 14, 14, 96)        0         \n",
      "_________________________________________________________________\n",
      "max_pooling2d_1 (MaxPooling2 (None, 7, 7, 96)          0         \n",
      "_________________________________________________________________\n",
      "flatten (Flatten)            (None, 4704)              0         \n",
      "_________________________________________________________________\n",
      "dense (Dense)                (None, 1024)              4817920   \n",
      "_________________________________________________________________\n",
      "dropout (Dropout)            (None, 1024)              0         \n",
      "_________________________________________________________________\n",
      "dense_1 (Dense)              (None, 1024)              1049600   \n",
      "_________________________________________________________________\n",
      "dropout_1 (Dropout)          (None, 1024)              0         \n",
      "_________________________________________________________________\n",
      "dense_2 (Dense)              (None, 10)                10250     \n",
      "=================================================================\n",
      "Total params: 5,919,962\n",
      "Trainable params: 5,919,770\n",
      "Non-trainable params: 192\n",
      "_________________________________________________________________\n"
     ]
    }
   ],
   "source": [
    "model.add(Conv2D(filters=48, input_shape=(28, 28, 1), kernel_size=(2, 2), strides=(1, 1), padding='SAME', activation='relu'))\n",
    "model.add(MaxPooling2D(pool_size=2, padding='VALID'))\n",
    "model.add(Conv2D(filters=96, kernel_size=(3, 3), strides=(1, 1), padding='SAME'))\n",
    "model.add(BatchNormalization())\n",
    "model.add(Activation('relu'))\n",
    "model.add(MaxPooling2D(pool_size=2, padding='VALID'))\n",
    "model.add(Flatten())\n",
    "\n",
    "model.add(Dense(1024, input_shape=(28*28,), activation='relu'))\n",
    "model.add(Dropout(0.4))\n",
    "model.add(Dense(1024, activation='relu'))\n",
    "model.add(Dropout(0.4))\n",
    "model.add(Dense(10, activation='softmax'))\n",
    "\n",
    "model.compile(loss='categorical_crossentropy', optimizer='adam', metrics=['accuracy'])\n",
    "\n",
    "model.summary()"
   ]
  },
  {
   "cell_type": "code",
   "execution_count": 15,
   "metadata": {},
   "outputs": [
    {
     "name": "stdout",
     "output_type": "stream",
     "text": [
      "Train on 297500 samples, validate on 10500 samples\n",
      "Epoch 1/30\n",
      "297500/297500 [==============================] - 75s 251us/step - loss: 0.0940 - acc: 0.9727 - val_loss: 0.0353 - val_acc: 0.9894\n",
      "Epoch 2/30\n",
      "297500/297500 [==============================] - 72s 242us/step - loss: 0.0442 - acc: 0.9879 - val_loss: 0.0348 - val_acc: 0.9901\n",
      "Epoch 3/30\n",
      "297500/297500 [==============================] - 72s 242us/step - loss: 0.0355 - acc: 0.9906 - val_loss: 0.0663 - val_acc: 0.9865\n",
      "Epoch 4/30\n",
      "297500/297500 [==============================] - 72s 242us/step - loss: 0.0323 - acc: 0.9920 - val_loss: 0.0408 - val_acc: 0.9927\n",
      "Epoch 5/30\n",
      "297500/297500 [==============================] - 72s 242us/step - loss: 0.0297 - acc: 0.9927 - val_loss: 0.0405 - val_acc: 0.9926\n",
      "Epoch 6/30\n",
      "297500/297500 [==============================] - 72s 242us/step - loss: 0.0276 - acc: 0.9936 - val_loss: 0.0530 - val_acc: 0.9877\n",
      "Epoch 7/30\n",
      "297500/297500 [==============================] - 72s 242us/step - loss: 0.0255 - acc: 0.9942 - val_loss: 0.0387 - val_acc: 0.9936\n",
      "Epoch 8/30\n",
      "297500/297500 [==============================] - 72s 243us/step - loss: 0.0232 - acc: 0.9947 - val_loss: 0.0488 - val_acc: 0.9924\n",
      "Epoch 9/30\n",
      "297500/297500 [==============================] - 72s 243us/step - loss: 0.0237 - acc: 0.9947 - val_loss: 0.0367 - val_acc: 0.9922\n",
      "Epoch 10/30\n",
      "297500/297500 [==============================] - 72s 242us/step - loss: 0.0225 - acc: 0.9952 - val_loss: 0.0350 - val_acc: 0.9935\n",
      "Epoch 11/30\n",
      "297500/297500 [==============================] - 72s 242us/step - loss: 0.0217 - acc: 0.9955 - val_loss: 0.0368 - val_acc: 0.9930\n",
      "Epoch 12/30\n",
      "297500/297500 [==============================] - 72s 242us/step - loss: 0.0216 - acc: 0.9957 - val_loss: 0.0497 - val_acc: 0.9909\n",
      "Epoch 13/30\n",
      "297500/297500 [==============================] - 72s 242us/step - loss: 0.0229 - acc: 0.9955 - val_loss: 0.0346 - val_acc: 0.9937\n",
      "Epoch 14/30\n",
      "297500/297500 [==============================] - 72s 242us/step - loss: 0.0216 - acc: 0.9956 - val_loss: 0.0447 - val_acc: 0.9924\n",
      "Epoch 15/30\n",
      "297500/297500 [==============================] - 72s 242us/step - loss: 0.0224 - acc: 0.9958 - val_loss: 0.0431 - val_acc: 0.9928\n",
      "Epoch 16/30\n",
      "297500/297500 [==============================] - 72s 242us/step - loss: 0.0236 - acc: 0.9955 - val_loss: 0.0630 - val_acc: 0.9904\n",
      "Epoch 17/30\n",
      "297500/297500 [==============================] - 72s 242us/step - loss: 0.0232 - acc: 0.9957 - val_loss: 0.0524 - val_acc: 0.9919\n",
      "Epoch 18/30\n",
      "297500/297500 [==============================] - 72s 242us/step - loss: 0.0243 - acc: 0.9954 - val_loss: 0.0550 - val_acc: 0.9935\n",
      "Epoch 19/30\n",
      "297500/297500 [==============================] - 72s 242us/step - loss: 0.0237 - acc: 0.9956 - val_loss: 0.0764 - val_acc: 0.9919\n",
      "Epoch 20/30\n",
      "297500/297500 [==============================] - 72s 242us/step - loss: 0.0234 - acc: 0.9957 - val_loss: 0.0500 - val_acc: 0.9922\n",
      "Epoch 21/30\n",
      "297500/297500 [==============================] - 72s 242us/step - loss: 0.0228 - acc: 0.9959 - val_loss: 0.0474 - val_acc: 0.9937\n",
      "Epoch 22/30\n",
      "297500/297500 [==============================] - 72s 242us/step - loss: 0.0248 - acc: 0.9959 - val_loss: 0.0544 - val_acc: 0.9923\n",
      "Epoch 23/30\n",
      "297500/297500 [==============================] - 72s 242us/step - loss: 0.0255 - acc: 0.9959 - val_loss: 0.0458 - val_acc: 0.9934\n",
      "Epoch 24/30\n",
      "297500/297500 [==============================] - 72s 242us/step - loss: 0.0249 - acc: 0.9961 - val_loss: 0.0497 - val_acc: 0.9941\n",
      "Epoch 25/30\n",
      "297500/297500 [==============================] - 72s 243us/step - loss: 0.0255 - acc: 0.9958 - val_loss: 0.0581 - val_acc: 0.9924\n",
      "Epoch 26/30\n",
      "297500/297500 [==============================] - 72s 242us/step - loss: 0.0289 - acc: 0.9955 - val_loss: 0.0534 - val_acc: 0.9929\n",
      "Epoch 27/30\n",
      "297500/297500 [==============================] - 72s 242us/step - loss: 0.0278 - acc: 0.9957 - val_loss: 0.0476 - val_acc: 0.9930\n",
      "Epoch 28/30\n",
      "297500/297500 [==============================] - 72s 242us/step - loss: 0.0254 - acc: 0.9960 - val_loss: 0.0728 - val_acc: 0.9923\n",
      "Epoch 29/30\n",
      "297500/297500 [==============================] - 72s 242us/step - loss: 0.0285 - acc: 0.9956 - val_loss: 0.0447 - val_acc: 0.9931\n",
      "Epoch 30/30\n",
      "297500/297500 [==============================] - 72s 242us/step - loss: 0.0280 - acc: 0.9960 - val_loss: 0.0606 - val_acc: 0.9913\n"
     ]
    }
   ],
   "source": [
    "history = model.fit(X_train, y_train, batch_size=32, validation_data=(X_test, y_test), epochs=30)"
   ]
  },
  {
   "cell_type": "code",
   "execution_count": 16,
   "metadata": {},
   "outputs": [
    {
     "data": {
      "image/png": "[encoded data removed]",
      "text/plain": [
       "<Figure size 432x288 with 1 Axes>"
      ]
     },
     "metadata": {},
     "output_type": "display_data"
    }
   ],
   "source": [
    "plt.plot(history.history['acc'])\n",
    "plt.plot(history.history['val_acc'])\n",
    "plt.title('Model Accuracy')\n",
    "plt.xlabel('Epoch')\n",
    "plt.ylabel('Accuracy')\n",
    "plt.legend(['train', 'test'])\n",
    "plt.show()"
   ]
  },
  {
   "cell_type": "code",
   "execution_count": 17,
   "metadata": {},
   "outputs": [
    {
     "data": {
      "text/plain": [
       "[0.9894285714285714,\n",
       " 0.9900952380952381,\n",
       " 0.9864761904761905,\n",
       " 0.9926666666666667,\n",
       " 0.9925714285714285,\n",
       " 0.9877142857142858,\n",
       " 0.9936190476190476,\n",
       " 0.9923809523809524,\n",
       " 0.9921904761904762,\n",
       " 0.9935238095238095,\n",
       " 0.9930476190476191,\n",
       " 0.9908571428571429,\n",
       " 0.9937142857142857,\n",
       " 0.9923809523809524,\n",
       " 0.9927619047619047,\n",
       " 0.9903809523809524,\n",
       " 0.991904761904762,\n",
       " 0.9935238095238095,\n",
       " 0.991904761904762,\n",
       " 0.9921904761904762,\n",
       " 0.9937142857142857,\n",
       " 0.9922857142857143,\n",
       " 0.9934285714285714,\n",
       " 0.9940952380952381,\n",
       " 0.9923809523809524,\n",
       " 0.9928571428571429,\n",
       " 0.9929523809523809,\n",
       " 0.9922857142857143,\n",
       " 0.9931428571428571,\n",
       " 0.9913333333333333]"
      ]
     },
     "execution_count": 17,
     "metadata": {},
     "output_type": "execute_result"
    }
   ],
   "source": [
    "history.history['val_acc']"
   ]
  }
 ],
 "metadata": {
  "kernelspec": {
   "display_name": "Python 3",
   "language": "python",
   "name": "python3"
  },
  "language_info": {
   "codemirror_mode": {
    "name": "ipython",
    "version": 3
   },
   "file_extension": ".py",
   "mimetype": "text/x-python",
   "name": "python",
   "nbconvert_exporter": "python",
   "pygments_lexer": "ipython3",
   "version": "3.6.7"
  }
 },
 "nbformat": 4,
 "nbformat_minor": 1
}
