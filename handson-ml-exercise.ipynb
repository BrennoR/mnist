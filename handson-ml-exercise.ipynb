{
 "cells": [
  {
   "cell_type": "markdown",
   "metadata": {
    "collapsed": true
   },
   "source": [
    "## Imports"
   ]
  },
  {
   "cell_type": "code",
   "execution_count": 1,
   "metadata": {},
   "outputs": [],
   "source": [
    "import numpy as np\n",
    "import pandas as pd\n",
    "import matplotlib.pyplot as plt\n",
    "%matplotlib inline\n",
    "import seaborn as sns\n",
    "sns.set()"
   ]
  },
  {
   "cell_type": "markdown",
   "metadata": {},
   "source": [
    "## MNIST Dataset"
   ]
  },
  {
   "cell_type": "code",
   "execution_count": 2,
   "metadata": {},
   "outputs": [
    {
     "data": {
      "text/plain": [
       "dict_keys(['data', 'target', 'feature_names', 'DESCR', 'details', 'categories', 'url'])"
      ]
     },
     "execution_count": 2,
     "metadata": {},
     "output_type": "execute_result"
    }
   ],
   "source": [
    "from sklearn.datasets import fetch_openml\n",
    "mnist= fetch_openml('mnist_784', version=1)\n",
    "mnist.keys()"
   ]
  },
  {
   "cell_type": "code",
   "execution_count": 3,
   "metadata": {},
   "outputs": [],
   "source": [
    "X, y = mnist['data'], mnist['target']"
   ]
  },
  {
   "cell_type": "code",
   "execution_count": 4,
   "metadata": {},
   "outputs": [],
   "source": [
    "X_train, X_test, y_train, y_test = X[:60000], X[60000:], y[:60000], y[60000:]"
   ]
  },
  {
   "cell_type": "markdown",
   "metadata": {},
   "source": [
    "## KNN Classifier"
   ]
  },
  {
   "cell_type": "code",
   "execution_count": 5,
   "metadata": {},
   "outputs": [],
   "source": [
    "from sklearn.neighbors import KNeighborsClassifier\n",
    "from sklearn.model_selection import GridSearchCV"
   ]
  },
  {
   "cell_type": "code",
   "execution_count": 6,
   "metadata": {},
   "outputs": [],
   "source": [
    "from scipy.stats import randint\n",
    "\n",
    "param_grid = {\n",
    "    'n_neighbors': [3, 5, 7],\n",
    "    'weights': ['uniform', 'distance'],\n",
    "    'p': [1, 2]\n",
    "}\n",
    "\n",
    "knn = KNeighborsClassifier()"
   ]
  },
  {
   "cell_type": "code",
   "execution_count": 7,
   "metadata": {},
   "outputs": [
    {
     "name": "stdout",
     "output_type": "stream",
     "text": [
      "Fitting 5 folds for each of 12 candidates, totalling 60 fits\n",
      "[CV] n_neighbors=3, p=1, weights=uniform .............................\n"
     ]
    },
    {
     "name": "stderr",
     "output_type": "stream",
     "text": [
      "[Parallel(n_jobs=1)]: Using backend SequentialBackend with 1 concurrent workers.\n"
     ]
    },
    {
     "name": "stdout",
     "output_type": "stream",
     "text": [
      "[CV]  n_neighbors=3, p=1, weights=uniform, score=0.9647646813827572, total= 8.6min\n",
      "[CV] n_neighbors=3, p=1, weights=uniform .............................\n"
     ]
    },
    {
     "name": "stderr",
     "output_type": "stream",
     "text": [
      "[Parallel(n_jobs=1)]: Done   1 out of   1 | elapsed: 42.5min remaining:    0.0s\n"
     ]
    },
    {
     "name": "stdout",
     "output_type": "stream",
     "text": [
      "[CV]  n_neighbors=3, p=1, weights=uniform, score=0.9642559573404432, total= 8.6min\n",
      "[CV] n_neighbors=3, p=1, weights=uniform .............................\n"
     ]
    },
    {
     "name": "stderr",
     "output_type": "stream",
     "text": [
      "[Parallel(n_jobs=1)]: Done   2 out of   2 | elapsed: 84.9min remaining:    0.0s\n"
     ]
    },
    {
     "name": "stdout",
     "output_type": "stream",
     "text": [
      "[CV]  n_neighbors=3, p=1, weights=uniform, score=0.9621666666666666, total= 8.6min\n",
      "[CV] n_neighbors=3, p=1, weights=uniform .............................\n",
      "[CV]  n_neighbors=3, p=1, weights=uniform, score=0.9615737267650246, total= 8.5min\n",
      "[CV] n_neighbors=3, p=1, weights=uniform .............................\n",
      "[CV]  n_neighbors=3, p=1, weights=uniform, score=0.9631543847949317, total= 8.6min\n",
      "[CV] n_neighbors=3, p=1, weights=distance ............................\n",
      "[CV]  n_neighbors=3, p=1, weights=distance, score=0.9654310703873387, total= 8.6min\n",
      "[CV] n_neighbors=3, p=1, weights=distance ............................\n",
      "[CV]  n_neighbors=3, p=1, weights=distance, score=0.9663389435094151, total= 8.6min\n",
      "[CV] n_neighbors=3, p=1, weights=distance ............................\n",
      "[CV]  n_neighbors=3, p=1, weights=distance, score=0.9633333333333334, total= 8.7min\n",
      "[CV] n_neighbors=3, p=1, weights=distance ............................\n",
      "[CV]  n_neighbors=3, p=1, weights=distance, score=0.9634908727181796, total= 8.5min\n",
      "[CV] n_neighbors=3, p=1, weights=distance ............................\n",
      "[CV]  n_neighbors=3, p=1, weights=distance, score=0.9648216072024008, total= 8.5min\n",
      "[CV] n_neighbors=3, p=2, weights=uniform .............................\n",
      "[CV]  n_neighbors=3, p=2, weights=uniform, score=0.9717617659308622, total= 9.7min\n",
      "[CV] n_neighbors=3, p=2, weights=uniform .............................\n",
      "[CV]  n_neighbors=3, p=2, weights=uniform, score=0.9706715547408765, total= 9.7min\n",
      "[CV] n_neighbors=3, p=2, weights=uniform .............................\n",
      "[CV]  n_neighbors=3, p=2, weights=uniform, score=0.9689166666666666, total= 9.7min\n",
      "[CV] n_neighbors=3, p=2, weights=uniform .............................\n",
      "[CV]  n_neighbors=3, p=2, weights=uniform, score=0.968575477202634, total= 9.7min\n",
      "[CV] n_neighbors=3, p=2, weights=uniform .............................\n",
      "[CV]  n_neighbors=3, p=2, weights=uniform, score=0.9704068022674225, total= 9.7min\n",
      "[CV] n_neighbors=3, p=2, weights=distance ............................\n",
      "[CV]  n_neighbors=3, p=2, weights=distance, score=0.9723448563098709, total= 9.7min\n",
      "[CV] n_neighbors=3, p=2, weights=distance ............................\n",
      "[CV]  n_neighbors=3, p=2, weights=distance, score=0.9716713881019831, total= 9.7min\n",
      "[CV] n_neighbors=3, p=2, weights=distance ............................\n",
      "[CV]  n_neighbors=3, p=2, weights=distance, score=0.9700833333333333, total= 9.7min\n",
      "[CV] n_neighbors=3, p=2, weights=distance ............................\n",
      "[CV]  n_neighbors=3, p=2, weights=distance, score=0.9700758522964075, total= 9.7min\n",
      "[CV] n_neighbors=3, p=2, weights=distance ............................\n",
      "[CV]  n_neighbors=3, p=2, weights=distance, score=0.971407135711904, total= 9.7min\n",
      "[CV] n_neighbors=5, p=1, weights=uniform .............................\n",
      "[CV]  n_neighbors=5, p=1, weights=uniform, score=0.963515201999167, total= 8.6min\n",
      "[CV] n_neighbors=5, p=1, weights=uniform .............................\n",
      "[CV]  n_neighbors=5, p=1, weights=uniform, score=0.9637560406598901, total= 8.6min\n",
      "[CV] n_neighbors=5, p=1, weights=uniform .............................\n",
      "[CV]  n_neighbors=5, p=1, weights=uniform, score=0.9613333333333334, total= 8.6min\n",
      "[CV] n_neighbors=5, p=1, weights=uniform .............................\n",
      "[CV]  n_neighbors=5, p=1, weights=uniform, score=0.9613236642493956, total= 8.5min\n",
      "[CV] n_neighbors=5, p=1, weights=uniform .............................\n",
      "[CV]  n_neighbors=5, p=1, weights=uniform, score=0.9638212737579193, total= 8.5min\n",
      "[CV] n_neighbors=5, p=1, weights=distance ............................\n",
      "[CV]  n_neighbors=5, p=1, weights=distance, score=0.9653477717617659, total= 8.5min\n",
      "[CV] n_neighbors=5, p=1, weights=distance ............................\n",
      "[CV]  n_neighbors=5, p=1, weights=distance, score=0.9652557907015498, total= 8.5min\n",
      "[CV] n_neighbors=5, p=1, weights=distance ............................\n",
      "[CV]  n_neighbors=5, p=1, weights=distance, score=0.9631666666666666, total= 8.5min\n",
      "[CV] n_neighbors=5, p=1, weights=distance ............................\n",
      "[CV]  n_neighbors=5, p=1, weights=distance, score=0.9629073935150454, total= 8.6min\n",
      "[CV] n_neighbors=5, p=1, weights=distance ............................\n",
      "[CV]  n_neighbors=5, p=1, weights=distance, score=0.9659053017672558, total= 8.5min\n",
      "[CV] n_neighbors=5, p=2, weights=uniform .............................\n",
      "[CV]  n_neighbors=5, p=2, weights=uniform, score=0.9697625989171179, total= 9.7min\n",
      "[CV] n_neighbors=5, p=2, weights=uniform .............................\n",
      "[CV]  n_neighbors=5, p=2, weights=uniform, score=0.9701716380603232, total= 9.7min\n",
      "[CV] n_neighbors=5, p=2, weights=uniform .............................\n",
      "[CV]  n_neighbors=5, p=2, weights=uniform, score=0.9694166666666667, total= 9.7min\n",
      "[CV] n_neighbors=5, p=2, weights=uniform .............................\n",
      "[CV]  n_neighbors=5, p=2, weights=uniform, score=0.9681587063432525, total= 9.7min\n",
      "[CV] n_neighbors=5, p=2, weights=uniform .............................\n",
      "[CV]  n_neighbors=5, p=2, weights=uniform, score=0.9689896632210737, total= 9.7min\n",
      "[CV] n_neighbors=5, p=2, weights=distance ............................\n",
      "[CV]  n_neighbors=5, p=2, weights=distance, score=0.9703456892961266, total= 9.7min\n",
      "[CV] n_neighbors=5, p=2, weights=distance ............................\n",
      "[CV]  n_neighbors=5, p=2, weights=distance, score=0.9713381103149475, total= 9.7min\n",
      "[CV] n_neighbors=5, p=2, weights=distance ............................\n",
      "[CV]  n_neighbors=5, p=2, weights=distance, score=0.9704166666666667, total= 9.7min\n",
      "[CV] n_neighbors=5, p=2, weights=distance ............................\n",
      "[CV]  n_neighbors=5, p=2, weights=distance, score=0.969409018921397, total= 9.7min\n",
      "[CV] n_neighbors=5, p=2, weights=distance ............................\n",
      "[CV]  n_neighbors=5, p=2, weights=distance, score=0.9706568856285428, total= 9.7min\n",
      "[CV] n_neighbors=7, p=1, weights=uniform .............................\n",
      "[CV]  n_neighbors=7, p=1, weights=uniform, score=0.9625989171178676, total= 8.6min\n",
      "[CV] n_neighbors=7, p=1, weights=uniform .............................\n",
      "[CV]  n_neighbors=7, p=1, weights=uniform, score=0.9621729711714714, total= 8.6min\n",
      "[CV] n_neighbors=7, p=1, weights=uniform .............................\n",
      "[CV]  n_neighbors=7, p=1, weights=uniform, score=0.9599166666666666, total= 8.6min\n",
      "[CV] n_neighbors=7, p=1, weights=uniform .............................\n",
      "[CV]  n_neighbors=7, p=1, weights=uniform, score=0.9598232891556222, total= 8.6min\n",
      "[CV] n_neighbors=7, p=1, weights=uniform .............................\n",
      "[CV]  n_neighbors=7, p=1, weights=uniform, score=0.9610703567855952, total= 8.5min\n",
      "[CV] n_neighbors=7, p=1, weights=distance ............................\n",
      "[CV]  n_neighbors=7, p=1, weights=distance, score=0.9633486047480216, total= 8.6min\n",
      "[CV] n_neighbors=7, p=1, weights=distance ............................\n",
      "[CV]  n_neighbors=7, p=1, weights=distance, score=0.9637560406598901, total= 8.6min\n",
      "[CV] n_neighbors=7, p=1, weights=distance ............................\n",
      "[CV]  n_neighbors=7, p=1, weights=distance, score=0.96125, total= 8.6min\n",
      "[CV] n_neighbors=7, p=1, weights=distance ............................\n",
      "[CV]  n_neighbors=7, p=1, weights=distance, score=0.9619071434525298, total= 8.5min\n",
      "[CV] n_neighbors=7, p=1, weights=distance ............................\n",
      "[CV]  n_neighbors=7, p=1, weights=distance, score=0.9629043014338112, total= 8.6min\n",
      "[CV] n_neighbors=7, p=2, weights=uniform .............................\n",
      "[CV]  n_neighbors=7, p=2, weights=uniform, score=0.9680133277800916, total= 9.7min\n",
      "[CV] n_neighbors=7, p=2, weights=uniform .............................\n",
      "[CV]  n_neighbors=7, p=2, weights=uniform, score=0.9695884019330112, total= 9.7min\n",
      "[CV] n_neighbors=7, p=2, weights=uniform .............................\n",
      "[CV]  n_neighbors=7, p=2, weights=uniform, score=0.9664166666666667, total= 9.7min\n",
      "[CV] n_neighbors=7, p=2, weights=uniform .............................\n",
      "[CV]  n_neighbors=7, p=2, weights=uniform, score=0.9666583312494791, total= 9.7min\n",
      "[CV] n_neighbors=7, p=2, weights=uniform .............................\n",
      "[CV]  n_neighbors=7, p=2, weights=uniform, score=0.9682394131377126, total= 9.7min\n",
      "[CV] n_neighbors=7, p=2, weights=distance ............................\n",
      "[CV]  n_neighbors=7, p=2, weights=distance, score=0.9691795085381091, total= 9.7min\n",
      "[CV] n_neighbors=7, p=2, weights=distance ............................\n"
     ]
    },
    {
     "name": "stdout",
     "output_type": "stream",
     "text": [
      "[CV]  n_neighbors=7, p=2, weights=distance, score=0.9704215964005999, total= 9.7min\n",
      "[CV] n_neighbors=7, p=2, weights=distance ............................\n",
      "[CV]  n_neighbors=7, p=2, weights=distance, score=0.96725, total= 9.7min\n",
      "[CV] n_neighbors=7, p=2, weights=distance ............................\n",
      "[CV]  n_neighbors=7, p=2, weights=distance, score=0.9687421855463866, total= 9.7min\n",
      "[CV] n_neighbors=7, p=2, weights=distance ............................\n",
      "[CV]  n_neighbors=7, p=2, weights=distance, score=0.969406468822941, total= 9.7min\n"
     ]
    },
    {
     "name": "stderr",
     "output_type": "stream",
     "text": [
      "[Parallel(n_jobs=1)]: Done  60 out of  60 | elapsed: 2708.8min finished\n"
     ]
    },
    {
     "data": {
      "text/plain": [
       "GridSearchCV(cv=5, error_score='raise-deprecating',\n",
       "       estimator=KNeighborsClassifier(algorithm='auto', leaf_size=30, metric='minkowski',\n",
       "           metric_params=None, n_jobs=None, n_neighbors=5, p=2,\n",
       "           weights='uniform'),\n",
       "       fit_params=None, iid='warn', n_jobs=None,\n",
       "       param_grid={'n_neighbors': [3, 5, 7], 'weights': ['uniform', 'distance'], 'p': [1, 2]},\n",
       "       pre_dispatch='2*n_jobs', refit=True, return_train_score='warn',\n",
       "       scoring=None, verbose=3)"
      ]
     },
     "execution_count": 7,
     "metadata": {},
     "output_type": "execute_result"
    }
   ],
   "source": [
    "grid_search = GridSearchCV(knn, param_grid, cv=5, verbose=3)\n",
    "grid_search.fit(X_train, y_train)"
   ]
  },
  {
   "cell_type": "code",
   "execution_count": 8,
   "metadata": {},
   "outputs": [
    {
     "data": {
      "text/plain": [
       "{'n_neighbors': 3, 'p': 2, 'weights': 'distance'}"
      ]
     },
     "execution_count": 8,
     "metadata": {},
     "output_type": "execute_result"
    }
   ],
   "source": [
    "grid_search.best_params_"
   ]
  },
  {
   "cell_type": "code",
   "execution_count": 9,
   "metadata": {},
   "outputs": [
    {
     "data": {
      "text/plain": [
       "0.9711166666666666"
      ]
     },
     "execution_count": 9,
     "metadata": {},
     "output_type": "execute_result"
    }
   ],
   "source": [
    "grid_search.best_score_"
   ]
  },
  {
   "cell_type": "code",
   "execution_count": 10,
   "metadata": {},
   "outputs": [
    {
     "data": {
      "text/plain": [
       "0.9717"
      ]
     },
     "execution_count": 10,
     "metadata": {},
     "output_type": "execute_result"
    }
   ],
   "source": [
    "from sklearn.metrics import accuracy_score\n",
    "\n",
    "y_pred = grid_search.predict(X_test)\n",
    "accuracy_score(y_test, y_pred)"
   ]
  },
  {
   "cell_type": "markdown",
   "metadata": {},
   "source": [
    "## Data Augmentation"
   ]
  },
  {
   "cell_type": "code",
   "execution_count": 11,
   "metadata": {},
   "outputs": [],
   "source": [
    "from scipy.ndimage.interpolation import shift\n",
    "\n",
    "def shift_image(image, dx, dy):\n",
    "    image = image.reshape(28, 28)\n",
    "    shifted_image = shift(image, [dy, dx], cval=0, mode=\"constant\")\n",
    "    return shifted_image.reshape([-1])"
   ]
  },
  {
   "cell_type": "code",
   "execution_count": 13,
   "metadata": {},
   "outputs": [],
   "source": [
    "X_train_augmented = [image for image in X_train]\n",
    "y_train_augmented = [image for image in y_train]\n",
    "\n",
    "for dx, dy in ((1, 0), (-1, 0), (0, 1), (0, -1)):\n",
    "    for image, label in zip(X_train, y_train):\n",
    "        X_train_augmented.append(shift_image(image, dx, dy))\n",
    "        y_train_augmented.append(label)\n",
    "        \n",
    "X_train_augmented = np.array(X_train_augmented)\n",
    "y_train_augmented = np.array(y_train_augmented)"
   ]
  },
  {
   "cell_type": "code",
   "execution_count": 14,
   "metadata": {},
   "outputs": [],
   "source": [
    "shuffle_idx = np.random.permutation(len(X_train_augmented))\n",
    "X_train_augmented = X_train_augmented[shuffle_idx]\n",
    "y_train_augmented = y_train_augmented[shuffle_idx]"
   ]
  },
  {
   "cell_type": "code",
   "execution_count": 15,
   "metadata": {},
   "outputs": [
    {
     "data": {
      "text/plain": [
       "KNeighborsClassifier(algorithm='auto', leaf_size=30, metric='minkowski',\n",
       "           metric_params=None, n_jobs=None, n_neighbors=3, p=2,\n",
       "           weights='distance')"
      ]
     },
     "execution_count": 15,
     "metadata": {},
     "output_type": "execute_result"
    }
   ],
   "source": [
    "knn_aug = KNeighborsClassifier(**grid_search.best_params_)\n",
    "\n",
    "knn_aug.fit(X_train_augmented, y_train_augmented)"
   ]
  },
  {
   "cell_type": "code",
   "execution_count": 16,
   "metadata": {},
   "outputs": [
    {
     "data": {
      "text/plain": [
       "0.9763"
      ]
     },
     "execution_count": 16,
     "metadata": {},
     "output_type": "execute_result"
    }
   ],
   "source": [
    "y_pred_aug = knn_aug.predict(X_test)\n",
    "accuracy_score(y_test, y_pred_aug)"
   ]
  }
 ],
 "metadata": {
  "kernelspec": {
   "display_name": "Python 3",
   "language": "python",
   "name": "python3"
  },
  "language_info": {
   "codemirror_mode": {
    "name": "ipython",
    "version": 3
   },
   "file_extension": ".py",
   "mimetype": "text/x-python",
   "name": "python",
   "nbconvert_exporter": "python",
   "pygments_lexer": "ipython3",
   "version": "3.6.7"
  }
 },
 "nbformat": 4,
 "nbformat_minor": 1
}
